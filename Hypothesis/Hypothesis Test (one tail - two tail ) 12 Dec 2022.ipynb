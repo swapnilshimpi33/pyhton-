{
 "cells": [
  {
   "cell_type": "markdown",
   "id": "1bb663c2",
   "metadata": {},
   "source": [
    "# one tail test"
   ]
  },
  {
   "cell_type": "code",
   "execution_count": null,
   "id": "bf46269a",
   "metadata": {
    "ExecuteTime": {
     "end_time": "2022-12-24T16:33:35.116980Z",
     "start_time": "2022-12-24T16:33:35.116980Z"
    }
   },
   "outputs": [],
   "source": [
    "#import the libraries\n",
    "import pandas as pd\n",
    "import numpy as np\n",
    "from scipy import stats"
   ]
  },
  {
   "cell_type": "code",
   "execution_count": 21,
   "id": "8ff637ec",
   "metadata": {
    "ExecuteTime": {
     "end_time": "2022-12-24T16:34:35.938011Z",
     "start_time": "2022-12-24T16:34:35.922011Z"
    }
   },
   "outputs": [
    {
     "data": {
      "text/plain": [
       "0    0.593\n",
       "1    0.142\n",
       "2    0.329\n",
       "3    0.691\n",
       "4    0.231\n",
       "5    0.793\n",
       "6    0.519\n",
       "7    0.392\n",
       "8    0.418\n",
       "dtype: float64"
      ]
     },
     "execution_count": 21,
     "metadata": {},
     "output_type": "execute_result"
    }
   ],
   "source": [
    "data = pd.Series([0.593,0.142,0.329,0.691,0.231,0.793,0.519,0.392,0.418])\n",
    "\n",
    "data"
   ]
  },
  {
   "cell_type": "code",
   "execution_count": 23,
   "id": "89cc4aca",
   "metadata": {
    "ExecuteTime": {
     "end_time": "2022-12-24T16:36:44.914015Z",
     "start_time": "2022-12-24T16:36:44.897994Z"
    }
   },
   "outputs": [],
   "source": [
    "import scipy"
   ]
  },
  {
   "cell_type": "code",
   "execution_count": 24,
   "id": "3718555d",
   "metadata": {
    "ExecuteTime": {
     "end_time": "2022-12-24T16:37:27.810290Z",
     "start_time": "2022-12-24T16:37:27.545971Z"
    }
   },
   "outputs": [
    {
     "data": {
      "text/plain": [
       "Ttest_1sampResult(statistic=2.2050588385131595, pvalue=0.05853032968489765)"
      ]
     },
     "execution_count": 24,
     "metadata": {},
     "output_type": "execute_result"
    }
   ],
   "source": [
    "scipy.stats.ttest_1samp(data,0.3)"
   ]
  },
  {
   "cell_type": "code",
   "execution_count": 25,
   "id": "8d57d28e",
   "metadata": {
    "ExecuteTime": {
     "end_time": "2022-12-24T16:44:19.633877Z",
     "start_time": "2022-12-24T16:44:19.609853Z"
    }
   },
   "outputs": [
    {
     "data": {
      "text/plain": [
       "0.029265164842448826"
      ]
     },
     "execution_count": 25,
     "metadata": {},
     "output_type": "execute_result"
    }
   ],
   "source": [
    "#this gives two tail test p value so divided by 2 toget final p-value\n",
    "s,p = scipy.stats.ttest_1samp(data,0.3)\n",
    "p_value=p/2\n",
    "p_value"
   ]
  },
  {
   "cell_type": "markdown",
   "id": "a994a190",
   "metadata": {},
   "source": [
    "# two tail test"
   ]
  },
  {
   "cell_type": "code",
   "execution_count": 28,
   "id": "3c79e6f8",
   "metadata": {
    "ExecuteTime": {
     "end_time": "2022-12-24T17:03:10.465602Z",
     "start_time": "2022-12-24T17:03:10.441604Z"
    }
   },
   "outputs": [],
   "source": [
    "control=pd.Series([91,87,99,77,88,91])\n",
    "treat=pd.Series([101,110,103,93,99,104])\n"
   ]
  },
  {
   "cell_type": "code",
   "execution_count": 29,
   "id": "4953d22a",
   "metadata": {
    "ExecuteTime": {
     "end_time": "2022-12-24T17:03:13.677683Z",
     "start_time": "2022-12-24T17:03:13.633619Z"
    }
   },
   "outputs": [
    {
     "data": {
      "text/plain": [
       "Ttest_indResult(statistic=-3.4456126735364876, pvalue=0.006272124350809803)"
      ]
     },
     "execution_count": 29,
     "metadata": {},
     "output_type": "execute_result"
    }
   ],
   "source": [
    "stats.ttest_ind(control,treat)"
   ]
  },
  {
   "cell_type": "code",
   "execution_count": null,
   "id": "f3f51a01",
   "metadata": {},
   "outputs": [],
   "source": []
  }
 ],
 "metadata": {
  "kernelspec": {
   "display_name": "Python 3 (ipykernel)",
   "language": "python",
   "name": "python3"
  },
  "language_info": {
   "codemirror_mode": {
    "name": "ipython",
    "version": 3
   },
   "file_extension": ".py",
   "mimetype": "text/x-python",
   "name": "python",
   "nbconvert_exporter": "python",
   "pygments_lexer": "ipython3",
   "version": "3.9.13"
  }
 },
 "nbformat": 4,
 "nbformat_minor": 5
}
