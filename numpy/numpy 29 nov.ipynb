{
 "cells": [
  {
   "cell_type": "markdown",
   "id": "65da3136",
   "metadata": {},
   "source": [
    "# Numpy "
   ]
  },
  {
   "cell_type": "code",
   "execution_count": 1,
   "id": "3cd89784",
   "metadata": {
    "ExecuteTime": {
     "end_time": "2022-12-08T15:26:49.424306Z",
     "start_time": "2022-12-08T15:26:49.384313Z"
    }
   },
   "outputs": [],
   "source": [
    "#importing necessary library"
   ]
  },
  {
   "cell_type": "code",
   "execution_count": 3,
   "id": "e0ac4155",
   "metadata": {
    "ExecuteTime": {
     "end_time": "2022-12-08T15:35:58.232250Z",
     "start_time": "2022-12-08T15:35:49.159446Z"
    }
   },
   "outputs": [
    {
     "name": "stdout",
     "output_type": "stream",
     "text": [
      "Requirement already satisfied: numpy in c:\\users\\asus\\anaconda3\\lib\\site-packages (1.21.5)\n"
     ]
    }
   ],
   "source": [
    "!pip install numpy\n",
    "\n",
    "import numpy as np"
   ]
  },
  {
   "cell_type": "code",
   "execution_count": 4,
   "id": "3b39da2b",
   "metadata": {
    "ExecuteTime": {
     "end_time": "2022-12-08T15:38:27.854681Z",
     "start_time": "2022-12-08T15:38:27.822679Z"
    }
   },
   "outputs": [
    {
     "data": {
      "text/plain": [
       "numpy.ndarray"
      ]
     },
     "execution_count": 4,
     "metadata": {},
     "output_type": "execute_result"
    }
   ],
   "source": [
    "#Array Creation\n",
    "a = np.array(10)\n",
    "type(a)"
   ]
  },
  {
   "cell_type": "code",
   "execution_count": 6,
   "id": "4c638045",
   "metadata": {
    "ExecuteTime": {
     "end_time": "2022-12-08T15:39:49.000069Z",
     "start_time": "2022-12-08T15:39:48.984071Z"
    }
   },
   "outputs": [
    {
     "data": {
      "text/plain": [
       "0"
      ]
     },
     "execution_count": 6,
     "metadata": {},
     "output_type": "execute_result"
    }
   ],
   "source": [
    "#zero dimensional array\n",
    "\n",
    "z=np.array(10)\n",
    "z.ndim"
   ]
  },
  {
   "cell_type": "code",
   "execution_count": 8,
   "id": "8e08bf65",
   "metadata": {
    "ExecuteTime": {
     "end_time": "2022-12-08T15:40:22.375702Z",
     "start_time": "2022-12-08T15:40:22.359703Z"
    }
   },
   "outputs": [],
   "source": [
    "#One dimensional array"
   ]
  },
  {
   "cell_type": "code",
   "execution_count": 9,
   "id": "835d1a7a",
   "metadata": {
    "ExecuteTime": {
     "end_time": "2022-12-08T15:40:59.704324Z",
     "start_time": "2022-12-08T15:40:59.688325Z"
    }
   },
   "outputs": [
    {
     "data": {
      "text/plain": [
       "1"
      ]
     },
     "execution_count": 9,
     "metadata": {},
     "output_type": "execute_result"
    }
   ],
   "source": [
    "o = np.array([10,12,12,15])\n",
    "o.ndim"
   ]
  },
  {
   "cell_type": "code",
   "execution_count": 10,
   "id": "b3620d27",
   "metadata": {
    "ExecuteTime": {
     "end_time": "2022-12-08T15:41:21.806724Z",
     "start_time": "2022-12-08T15:41:21.790702Z"
    }
   },
   "outputs": [],
   "source": [
    "#Two dimensionalarray"
   ]
  },
  {
   "cell_type": "code",
   "execution_count": 12,
   "id": "bfee822a",
   "metadata": {
    "ExecuteTime": {
     "end_time": "2022-12-08T15:42:38.324919Z",
     "start_time": "2022-12-08T15:42:38.308918Z"
    }
   },
   "outputs": [
    {
     "data": {
      "text/plain": [
       "2"
      ]
     },
     "execution_count": 12,
     "metadata": {},
     "output_type": "execute_result"
    }
   ],
   "source": [
    "t = np.array([[10,10,12,14,15]])\n",
    "t.ndim"
   ]
  },
  {
   "cell_type": "code",
   "execution_count": 14,
   "id": "36fd6d57",
   "metadata": {
    "ExecuteTime": {
     "end_time": "2022-12-08T15:43:09.995589Z",
     "start_time": "2022-12-08T15:43:09.979590Z"
    }
   },
   "outputs": [],
   "source": [
    "#three dimensional array"
   ]
  },
  {
   "cell_type": "code",
   "execution_count": 15,
   "id": "4e303f07",
   "metadata": {
    "ExecuteTime": {
     "end_time": "2022-12-08T15:43:59.610266Z",
     "start_time": "2022-12-08T15:43:59.594267Z"
    }
   },
   "outputs": [
    {
     "data": {
      "text/plain": [
       "3"
      ]
     },
     "execution_count": 15,
     "metadata": {},
     "output_type": "execute_result"
    }
   ],
   "source": [
    "th =np.array([[[10,12,14,15,16]]])\n",
    "th.ndim"
   ]
  },
  {
   "cell_type": "code",
   "execution_count": 16,
   "id": "c20fdbc8",
   "metadata": {
    "ExecuteTime": {
     "end_time": "2022-12-08T15:45:44.181522Z",
     "start_time": "2022-12-08T15:45:44.165520Z"
    }
   },
   "outputs": [],
   "source": [
    "#change the data type of the array element"
   ]
  },
  {
   "cell_type": "code",
   "execution_count": 19,
   "id": "14d3f016",
   "metadata": {
    "ExecuteTime": {
     "end_time": "2022-12-08T15:48:12.026904Z",
     "start_time": "2022-12-08T15:48:11.978902Z"
    }
   },
   "outputs": [
    {
     "name": "stdout",
     "output_type": "stream",
     "text": [
      "float64\n"
     ]
    },
    {
     "data": {
      "text/plain": [
       "array([10., 15., 52., 54.])"
      ]
     },
     "execution_count": 19,
     "metadata": {},
     "output_type": "execute_result"
    }
   ],
   "source": [
    "a= np.array([10,15,52,54],dtype='float')\n",
    "print(a.dtype)\n",
    "a"
   ]
  },
  {
   "cell_type": "markdown",
   "id": "58a93baa",
   "metadata": {},
   "source": [
    "# Other ways of creating an array"
   ]
  },
  {
   "cell_type": "markdown",
   "id": "4ba90a9d",
   "metadata": {},
   "source": [
    "1.arange"
   ]
  },
  {
   "cell_type": "markdown",
   "id": "b00b1edf",
   "metadata": {
    "ExecuteTime": {
     "end_time": "2022-12-08T15:52:06.562957Z",
     "start_time": "2022-12-08T15:52:06.546960Z"
    }
   },
   "source": [
    "2.linspace"
   ]
  },
  {
   "cell_type": "markdown",
   "id": "c3a11070",
   "metadata": {
    "ExecuteTime": {
     "end_time": "2022-12-08T15:52:32.801707Z",
     "start_time": "2022-12-08T15:52:32.785684Z"
    }
   },
   "source": [
    "3.Zeros"
   ]
  },
  {
   "cell_type": "markdown",
   "id": "4374510e",
   "metadata": {
    "ExecuteTime": {
     "end_time": "2022-12-08T15:53:01.198617Z",
     "start_time": "2022-12-08T15:53:01.182616Z"
    }
   },
   "source": [
    "4.Ones"
   ]
  },
  {
   "cell_type": "markdown",
   "id": "f7ea9ce1",
   "metadata": {},
   "source": [
    "5.Random"
   ]
  },
  {
   "cell_type": "code",
   "execution_count": 25,
   "id": "f65e72ff",
   "metadata": {
    "ExecuteTime": {
     "end_time": "2022-12-08T15:55:20.058348Z",
     "start_time": "2022-12-08T15:55:20.042349Z"
    }
   },
   "outputs": [
    {
     "data": {
      "text/plain": [
       "array([ 1,  3,  5,  7,  9, 11, 13, 15, 17, 19])"
      ]
     },
     "execution_count": 25,
     "metadata": {},
     "output_type": "execute_result"
    }
   ],
   "source": [
    "a= np.arange(1,21,2)\n",
    "a"
   ]
  },
  {
   "cell_type": "code",
   "execution_count": 27,
   "id": "675fb362",
   "metadata": {
    "ExecuteTime": {
     "end_time": "2022-12-08T15:56:43.432319Z",
     "start_time": "2022-12-08T15:56:43.416321Z"
    }
   },
   "outputs": [
    {
     "data": {
      "text/plain": [
       "array([1.        , 1.28571429, 1.57142857, 1.85714286, 2.14285714,\n",
       "       2.42857143, 2.71428571, 3.        , 3.28571429, 3.57142857,\n",
       "       3.85714286, 4.14285714, 4.42857143, 4.71428571, 5.        ])"
      ]
     },
     "execution_count": 27,
     "metadata": {},
     "output_type": "execute_result"
    }
   ],
   "source": [
    "a= np.linspace(1,5,15)\n",
    "a"
   ]
  },
  {
   "cell_type": "code",
   "execution_count": 29,
   "id": "7fea2f97",
   "metadata": {
    "ExecuteTime": {
     "end_time": "2022-12-08T15:59:15.525022Z",
     "start_time": "2022-12-08T15:59:15.501024Z"
    }
   },
   "outputs": [
    {
     "data": {
      "text/plain": [
       "(array([1.        , 1.28571429, 1.57142857, 1.85714286, 2.14285714,\n",
       "        2.42857143, 2.71428571, 3.        , 3.28571429, 3.57142857,\n",
       "        3.85714286, 4.14285714, 4.42857143, 4.71428571, 5.        ]),\n",
       " 0.2857142857142857)"
      ]
     },
     "execution_count": 29,
     "metadata": {},
     "output_type": "execute_result"
    }
   ],
   "source": [
    "a= np.linspace(1,5,15,retstep=True)\n",
    "a"
   ]
  },
  {
   "cell_type": "code",
   "execution_count": 31,
   "id": "5c05ea19",
   "metadata": {
    "ExecuteTime": {
     "end_time": "2022-12-08T16:00:05.729573Z",
     "start_time": "2022-12-08T16:00:05.713575Z"
    }
   },
   "outputs": [
    {
     "data": {
      "text/plain": [
       "array([[0., 0.],\n",
       "       [0., 0.]])"
      ]
     },
     "execution_count": 31,
     "metadata": {},
     "output_type": "execute_result"
    }
   ],
   "source": [
    "z =np.zeros([2,2])\n",
    "z"
   ]
  },
  {
   "cell_type": "code",
   "execution_count": 34,
   "id": "386b0f3e",
   "metadata": {
    "ExecuteTime": {
     "end_time": "2022-12-08T16:01:20.238761Z",
     "start_time": "2022-12-08T16:01:20.222762Z"
    }
   },
   "outputs": [
    {
     "data": {
      "text/plain": [
       "array([[1., 1., 1., 1., 1.],\n",
       "       [1., 1., 1., 1., 1.],\n",
       "       [1., 1., 1., 1., 1.],\n",
       "       [1., 1., 1., 1., 1.],\n",
       "       [1., 1., 1., 1., 1.]])"
      ]
     },
     "execution_count": 34,
     "metadata": {},
     "output_type": "execute_result"
    }
   ],
   "source": [
    "o =np.ones([5,5])\n",
    "o"
   ]
  },
  {
   "cell_type": "code",
   "execution_count": 36,
   "id": "afbf90c1",
   "metadata": {
    "ExecuteTime": {
     "end_time": "2022-12-08T16:02:38.565675Z",
     "start_time": "2022-12-08T16:02:38.509681Z"
    }
   },
   "outputs": [
    {
     "data": {
      "text/plain": [
       "array([[0.58810288, 0.66335086, 0.44967063, 0.42207046, 0.51926042],\n",
       "       [0.48021982, 0.93523306, 0.51713747, 0.01668991, 0.52638893],\n",
       "       [0.9276967 , 0.59614678, 0.27619885, 0.62519172, 0.78885593],\n",
       "       [0.82455101, 0.26266071, 0.25543578, 0.18006812, 0.29765664],\n",
       "       [0.89759969, 0.09786986, 0.39560656, 0.64561953, 0.51001948]])"
      ]
     },
     "execution_count": 36,
     "metadata": {},
     "output_type": "execute_result"
    }
   ],
   "source": [
    "r = np.random.rand(5,5)\n",
    "r"
   ]
  },
  {
   "cell_type": "code",
   "execution_count": 40,
   "id": "1947e237",
   "metadata": {
    "ExecuteTime": {
     "end_time": "2022-12-08T16:06:10.982647Z",
     "start_time": "2022-12-08T16:06:10.926652Z"
    }
   },
   "outputs": [
    {
     "data": {
      "text/plain": [
       "array([0, 0, 3, 1, 2, 2, 4, 3, 4, 2])"
      ]
     },
     "execution_count": 40,
     "metadata": {},
     "output_type": "execute_result"
    }
   ],
   "source": [
    "r = np.random.randint(5,size=10)\n",
    "r"
   ]
  },
  {
   "cell_type": "markdown",
   "id": "9168d50f",
   "metadata": {
    "ExecuteTime": {
     "end_time": "2022-12-08T16:07:13.227468Z",
     "start_time": "2022-12-08T16:07:13.211511Z"
    }
   },
   "source": [
    "# Slicing and Indexing of an array"
   ]
  },
  {
   "cell_type": "code",
   "execution_count": 44,
   "id": "11133180",
   "metadata": {
    "ExecuteTime": {
     "end_time": "2022-12-08T16:10:18.979393Z",
     "start_time": "2022-12-08T16:10:18.963370Z"
    }
   },
   "outputs": [],
   "source": [
    "a =np.array([[1,2,3],[4,5,6]])"
   ]
  },
  {
   "cell_type": "code",
   "execution_count": 45,
   "id": "8480d266",
   "metadata": {
    "ExecuteTime": {
     "end_time": "2022-12-08T16:10:25.640411Z",
     "start_time": "2022-12-08T16:10:25.624411Z"
    }
   },
   "outputs": [
    {
     "data": {
      "text/plain": [
       "array([[1, 2, 3],\n",
       "       [4, 5, 6]])"
      ]
     },
     "execution_count": 45,
     "metadata": {},
     "output_type": "execute_result"
    }
   ],
   "source": [
    "a"
   ]
  },
  {
   "cell_type": "code",
   "execution_count": 46,
   "id": "a6212a16",
   "metadata": {
    "ExecuteTime": {
     "end_time": "2022-12-08T16:13:32.682188Z",
     "start_time": "2022-12-08T16:13:32.666167Z"
    }
   },
   "outputs": [
    {
     "data": {
      "text/plain": [
       "1"
      ]
     },
     "execution_count": 46,
     "metadata": {},
     "output_type": "execute_result"
    }
   ],
   "source": [
    "a[0,0]"
   ]
  },
  {
   "cell_type": "code",
   "execution_count": 47,
   "id": "3c300cf7",
   "metadata": {
    "ExecuteTime": {
     "end_time": "2022-12-08T16:14:12.852707Z",
     "start_time": "2022-12-08T16:14:12.836702Z"
    }
   },
   "outputs": [
    {
     "data": {
      "text/plain": [
       "6"
      ]
     },
     "execution_count": 47,
     "metadata": {},
     "output_type": "execute_result"
    }
   ],
   "source": [
    "a[1,2]"
   ]
  },
  {
   "cell_type": "code",
   "execution_count": 48,
   "id": "603e7e89",
   "metadata": {
    "ExecuteTime": {
     "end_time": "2022-12-08T16:16:42.828502Z",
     "start_time": "2022-12-08T16:16:42.812502Z"
    }
   },
   "outputs": [
    {
     "data": {
      "text/plain": [
       "3"
      ]
     },
     "execution_count": 48,
     "metadata": {},
     "output_type": "execute_result"
    }
   ],
   "source": [
    "a[0,2]"
   ]
  },
  {
   "cell_type": "code",
   "execution_count": 49,
   "id": "21eb181c",
   "metadata": {
    "ExecuteTime": {
     "end_time": "2022-12-08T16:18:15.310392Z",
     "start_time": "2022-12-08T16:18:15.294394Z"
    }
   },
   "outputs": [
    {
     "data": {
      "text/plain": [
       "array([2, 3])"
      ]
     },
     "execution_count": 49,
     "metadata": {},
     "output_type": "execute_result"
    }
   ],
   "source": [
    "a[0,1:]"
   ]
  },
  {
   "cell_type": "code",
   "execution_count": 50,
   "id": "b0546924",
   "metadata": {
    "ExecuteTime": {
     "end_time": "2022-12-08T16:19:18.690499Z",
     "start_time": "2022-12-08T16:19:18.666477Z"
    }
   },
   "outputs": [
    {
     "data": {
      "text/plain": [
       "array([[2, 3],\n",
       "       [5, 6]])"
      ]
     },
     "execution_count": 50,
     "metadata": {},
     "output_type": "execute_result"
    }
   ],
   "source": [
    "a[0:,1:]"
   ]
  },
  {
   "cell_type": "code",
   "execution_count": 52,
   "id": "1e1750d5",
   "metadata": {
    "ExecuteTime": {
     "end_time": "2022-12-08T16:20:50.918745Z",
     "start_time": "2022-12-08T16:20:50.902746Z"
    }
   },
   "outputs": [
    {
     "data": {
      "text/plain": [
       "array([1, 6])"
      ]
     },
     "execution_count": 52,
     "metadata": {},
     "output_type": "execute_result"
    }
   ],
   "source": [
    "#1 and 6\n",
    "a[[0,1],[0,2]]"
   ]
  },
  {
   "cell_type": "code",
   "execution_count": 53,
   "id": "9e2b12c6",
   "metadata": {
    "ExecuteTime": {
     "end_time": "2022-12-08T16:21:10.340176Z",
     "start_time": "2022-12-08T16:21:10.332157Z"
    }
   },
   "outputs": [],
   "source": [
    "#3 and 4"
   ]
  },
  {
   "cell_type": "code",
   "execution_count": 55,
   "id": "9a06729f",
   "metadata": {
    "ExecuteTime": {
     "end_time": "2022-12-08T16:23:59.281584Z",
     "start_time": "2022-12-08T16:23:59.265583Z"
    }
   },
   "outputs": [
    {
     "data": {
      "text/plain": [
       "array([3, 4])"
      ]
     },
     "execution_count": 55,
     "metadata": {},
     "output_type": "execute_result"
    }
   ],
   "source": [
    "a[[0,1],[2,0]]"
   ]
  },
  {
   "cell_type": "code",
   "execution_count": null,
   "id": "4ea07e3e",
   "metadata": {},
   "outputs": [],
   "source": []
  },
  {
   "cell_type": "markdown",
   "id": "06cdb589",
   "metadata": {},
   "source": [
    "# Reshaping the  arrays"
   ]
  },
  {
   "cell_type": "code",
   "execution_count": 56,
   "id": "ea201a80",
   "metadata": {
    "ExecuteTime": {
     "end_time": "2022-12-08T16:29:57.124877Z",
     "start_time": "2022-12-08T16:29:57.116878Z"
    }
   },
   "outputs": [],
   "source": [
    "a = np.random.rand(5,2)"
   ]
  },
  {
   "cell_type": "code",
   "execution_count": 57,
   "id": "d7986d8d",
   "metadata": {
    "ExecuteTime": {
     "end_time": "2022-12-08T16:30:07.713496Z",
     "start_time": "2022-12-08T16:30:07.697475Z"
    }
   },
   "outputs": [
    {
     "data": {
      "text/plain": [
       "array([[0.10858347, 0.88147095],\n",
       "       [0.89541618, 0.56408565],\n",
       "       [0.29583195, 0.21704333],\n",
       "       [0.23951432, 0.40165409],\n",
       "       [0.02683261, 0.16443182]])"
      ]
     },
     "execution_count": 57,
     "metadata": {},
     "output_type": "execute_result"
    }
   ],
   "source": [
    "a"
   ]
  },
  {
   "cell_type": "code",
   "execution_count": 58,
   "id": "cf43c87e",
   "metadata": {
    "ExecuteTime": {
     "end_time": "2022-12-08T16:30:34.218848Z",
     "start_time": "2022-12-08T16:30:34.202844Z"
    }
   },
   "outputs": [
    {
     "data": {
      "text/plain": [
       "array([[0.10858347, 0.88147095, 0.89541618, 0.56408565, 0.29583195],\n",
       "       [0.21704333, 0.23951432, 0.40165409, 0.02683261, 0.16443182]])"
      ]
     },
     "execution_count": 58,
     "metadata": {},
     "output_type": "execute_result"
    }
   ],
   "source": [
    "a.reshape(2,5)"
   ]
  },
  {
   "cell_type": "code",
   "execution_count": 59,
   "id": "5340d08e",
   "metadata": {
    "ExecuteTime": {
     "end_time": "2022-12-08T16:30:57.415311Z",
     "start_time": "2022-12-08T16:30:57.399291Z"
    }
   },
   "outputs": [
    {
     "data": {
      "text/plain": [
       "array([[0.10858347, 0.88147095, 0.89541618, 0.56408565, 0.29583195,\n",
       "        0.21704333, 0.23951432, 0.40165409, 0.02683261, 0.16443182]])"
      ]
     },
     "execution_count": 59,
     "metadata": {},
     "output_type": "execute_result"
    }
   ],
   "source": [
    "a.reshape(1,10)"
   ]
  },
  {
   "cell_type": "code",
   "execution_count": 60,
   "id": "984c1cc6",
   "metadata": {
    "ExecuteTime": {
     "end_time": "2022-12-08T16:31:30.071140Z",
     "start_time": "2022-12-08T16:31:30.047117Z"
    }
   },
   "outputs": [
    {
     "data": {
      "text/plain": [
       "array([[0.10858347],\n",
       "       [0.88147095],\n",
       "       [0.89541618],\n",
       "       [0.56408565],\n",
       "       [0.29583195],\n",
       "       [0.21704333],\n",
       "       [0.23951432],\n",
       "       [0.40165409],\n",
       "       [0.02683261],\n",
       "       [0.16443182]])"
      ]
     },
     "execution_count": 60,
     "metadata": {},
     "output_type": "execute_result"
    }
   ],
   "source": [
    "a.reshape(10,1)"
   ]
  },
  {
   "cell_type": "code",
   "execution_count": 62,
   "id": "83232478",
   "metadata": {
    "ExecuteTime": {
     "end_time": "2022-12-08T16:34:28.159238Z",
     "start_time": "2022-12-08T16:34:28.143217Z"
    }
   },
   "outputs": [
    {
     "data": {
      "text/plain": [
       "array([[0.10858347, 0.88147095],\n",
       "       [0.89541618, 0.56408565],\n",
       "       [0.29583195, 0.21704333],\n",
       "       [0.23951432, 0.40165409],\n",
       "       [0.02683261, 0.16443182]])"
      ]
     },
     "execution_count": 62,
     "metadata": {},
     "output_type": "execute_result"
    }
   ],
   "source": [
    "#When we don't know how much columns going to accomodate then pass -1\n",
    "a.reshape(5,-1)"
   ]
  },
  {
   "cell_type": "markdown",
   "id": "971b77e7",
   "metadata": {},
   "source": [
    "# Aggregate Function"
   ]
  },
  {
   "cell_type": "markdown",
   "id": "224daaf3",
   "metadata": {
    "ExecuteTime": {
     "end_time": "2022-12-08T16:37:26.024369Z",
     "start_time": "2022-12-08T16:37:26.008369Z"
    }
   },
   "source": [
    "The python numpy aggregate functions are sum,min,max,average,product,median, standard deviation, variance,percentile,corrcoef"
   ]
  },
  {
   "cell_type": "code",
   "execution_count": 64,
   "id": "74653526",
   "metadata": {
    "ExecuteTime": {
     "end_time": "2022-12-08T16:37:53.960500Z",
     "start_time": "2022-12-08T16:37:53.936498Z"
    }
   },
   "outputs": [
    {
     "data": {
      "text/plain": [
       "0.02683260891260475"
      ]
     },
     "execution_count": 64,
     "metadata": {},
     "output_type": "execute_result"
    }
   ],
   "source": [
    "a.min()"
   ]
  },
  {
   "cell_type": "code",
   "execution_count": 65,
   "id": "b17962e5",
   "metadata": {
    "ExecuteTime": {
     "end_time": "2022-12-08T16:38:55.737443Z",
     "start_time": "2022-12-08T16:38:55.665424Z"
    }
   },
   "outputs": [
    {
     "data": {
      "text/plain": [
       "0.2914995498817203"
      ]
     },
     "execution_count": 65,
     "metadata": {},
     "output_type": "execute_result"
    }
   ],
   "source": [
    "a.std()"
   ]
  },
  {
   "cell_type": "code",
   "execution_count": 66,
   "id": "587b19db",
   "metadata": {
    "ExecuteTime": {
     "end_time": "2022-12-08T16:39:09.478843Z",
     "start_time": "2022-12-08T16:39:09.462845Z"
    }
   },
   "outputs": [
    {
     "data": {
      "text/plain": [
       "0.08497198758124554"
      ]
     },
     "execution_count": 66,
     "metadata": {},
     "output_type": "execute_result"
    }
   ],
   "source": [
    "a.var()"
   ]
  },
  {
   "cell_type": "code",
   "execution_count": 67,
   "id": "02e88a3d",
   "metadata": {
    "ExecuteTime": {
     "end_time": "2022-12-08T16:39:19.385589Z",
     "start_time": "2022-12-08T16:39:19.369587Z"
    }
   },
   "outputs": [
    {
     "data": {
      "text/plain": [
       "0.37948643668265275"
      ]
     },
     "execution_count": 67,
     "metadata": {},
     "output_type": "execute_result"
    }
   ],
   "source": [
    "a.mean()"
   ]
  },
  {
   "cell_type": "code",
   "execution_count": 68,
   "id": "5e830bc4",
   "metadata": {
    "ExecuteTime": {
     "end_time": "2022-12-08T16:39:42.484632Z",
     "start_time": "2022-12-08T16:39:42.468633Z"
    }
   },
   "outputs": [
    {
     "data": {
      "text/plain": [
       "0.8954161770969737"
      ]
     },
     "execution_count": 68,
     "metadata": {},
     "output_type": "execute_result"
    }
   ],
   "source": [
    "a.max()"
   ]
  },
  {
   "cell_type": "markdown",
   "id": "f5fb0211",
   "metadata": {},
   "source": [
    "# Stacking"
   ]
  },
  {
   "cell_type": "code",
   "execution_count": 69,
   "id": "8714c77a",
   "metadata": {
    "ExecuteTime": {
     "end_time": "2022-12-08T16:43:27.421154Z",
     "start_time": "2022-12-08T16:43:27.413132Z"
    }
   },
   "outputs": [],
   "source": [
    "a=np.array([1,2,3,4,5])\n",
    "b=np.array([4,5,6,7,8])"
   ]
  },
  {
   "cell_type": "code",
   "execution_count": 70,
   "id": "9ae29280",
   "metadata": {
    "ExecuteTime": {
     "end_time": "2022-12-08T16:43:54.229628Z",
     "start_time": "2022-12-08T16:43:54.213626Z"
    }
   },
   "outputs": [
    {
     "data": {
      "text/plain": [
       "array([1, 2, 3, 4, 5, 4, 5, 6, 7, 8])"
      ]
     },
     "execution_count": 70,
     "metadata": {},
     "output_type": "execute_result"
    }
   ],
   "source": [
    "np.hstack([a,b])"
   ]
  },
  {
   "cell_type": "code",
   "execution_count": 71,
   "id": "a72e21fe",
   "metadata": {
    "ExecuteTime": {
     "end_time": "2022-12-08T16:44:08.058016Z",
     "start_time": "2022-12-08T16:44:08.042018Z"
    }
   },
   "outputs": [
    {
     "data": {
      "text/plain": [
       "array([[1, 2, 3, 4, 5],\n",
       "       [4, 5, 6, 7, 8]])"
      ]
     },
     "execution_count": 71,
     "metadata": {},
     "output_type": "execute_result"
    }
   ],
   "source": [
    "np.vstack([a,b])"
   ]
  },
  {
   "cell_type": "code",
   "execution_count": null,
   "id": "84662dd6",
   "metadata": {},
   "outputs": [],
   "source": []
  }
 ],
 "metadata": {
  "kernelspec": {
   "display_name": "Python 3 (ipykernel)",
   "language": "python",
   "name": "python3"
  },
  "language_info": {
   "codemirror_mode": {
    "name": "ipython",
    "version": 3
   },
   "file_extension": ".py",
   "mimetype": "text/x-python",
   "name": "python",
   "nbconvert_exporter": "python",
   "pygments_lexer": "ipython3",
   "version": "3.9.13"
  }
 },
 "nbformat": 4,
 "nbformat_minor": 5
}
