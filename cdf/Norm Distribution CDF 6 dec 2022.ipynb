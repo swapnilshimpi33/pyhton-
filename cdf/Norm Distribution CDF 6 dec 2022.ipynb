{
 "cells": [
  {
   "cell_type": "code",
   "execution_count": 2,
   "id": "d9d9c92e",
   "metadata": {
    "ExecuteTime": {
     "end_time": "2022-12-18T06:28:29.368573Z",
     "start_time": "2022-12-18T06:27:53.296108Z"
    }
   },
   "outputs": [],
   "source": [
    "from scipy import stats"
   ]
  },
  {
   "cell_type": "code",
   "execution_count": 4,
   "id": "64e3acd0",
   "metadata": {
    "ExecuteTime": {
     "end_time": "2022-12-16T16:51:10.909993Z",
     "start_time": "2022-12-16T16:51:10.892006Z"
    }
   },
   "outputs": [
    {
     "data": {
      "text/plain": [
       "0.8413447460685429"
      ]
     },
     "execution_count": 4,
     "metadata": {},
     "output_type": "execute_result"
    }
   ],
   "source": [
    "#calculate probability of left hand side which is less than 70 where 60 is mean and SD is 10\n",
    "stats.norm.cdf(70,60,10)"
   ]
  },
  {
   "cell_type": "code",
   "execution_count": 5,
   "id": "3e440e37",
   "metadata": {
    "ExecuteTime": {
     "end_time": "2022-12-16T16:51:12.942047Z",
     "start_time": "2022-12-16T16:51:12.920063Z"
    }
   },
   "outputs": [
    {
     "data": {
      "text/plain": [
       "0.15865525393145707"
      ]
     },
     "execution_count": 5,
     "metadata": {},
     "output_type": "execute_result"
    }
   ],
   "source": [
    "#calculate probability of right hand side which is greater than 70 where 60 is mean and SD is 10\n",
    "1 - stats.norm.cdf(70,60,10)"
   ]
  },
  {
   "cell_type": "code",
   "execution_count": 6,
   "id": "f09d4595",
   "metadata": {
    "ExecuteTime": {
     "end_time": "2022-12-16T16:56:57.242681Z",
     "start_time": "2022-12-16T16:56:57.186688Z"
    }
   },
   "outputs": [
    {
     "data": {
      "text/plain": [
       "0.14254260383881612"
      ]
     },
     "execution_count": 6,
     "metadata": {},
     "output_type": "execute_result"
    }
   ],
   "source": [
    "stats.norm.cdf(680,loc=711,scale=29)"
   ]
  },
  {
   "cell_type": "code",
   "execution_count": 7,
   "id": "e49f97d0",
   "metadata": {
    "ExecuteTime": {
     "end_time": "2022-12-16T16:57:42.258659Z",
     "start_time": "2022-12-16T16:57:42.242655Z"
    }
   },
   "outputs": [
    {
     "data": {
      "text/plain": [
       "0.8574573961611839"
      ]
     },
     "execution_count": 7,
     "metadata": {},
     "output_type": "execute_result"
    }
   ],
   "source": [
    "1 - stats.norm.cdf(680,loc=711,scale=29)"
   ]
  },
  {
   "cell_type": "code",
   "execution_count": 8,
   "id": "91a0bc79",
   "metadata": {
    "ExecuteTime": {
     "end_time": "2022-12-16T17:09:33.729713Z",
     "start_time": "2022-12-16T17:09:33.713714Z"
    }
   },
   "outputs": [
    {
     "data": {
      "text/plain": [
       "0.8413447460685429"
      ]
     },
     "execution_count": 8,
     "metadata": {},
     "output_type": "execute_result"
    }
   ],
   "source": [
    "stats.norm.cdf(740,711,29)"
   ]
  },
  {
   "cell_type": "code",
   "execution_count": 9,
   "id": "5baf3697",
   "metadata": {
    "ExecuteTime": {
     "end_time": "2022-12-16T17:12:00.313918Z",
     "start_time": "2022-12-16T17:12:00.289898Z"
    }
   },
   "outputs": [
    {
     "data": {
      "text/plain": [
       "0.31463356742704107"
      ]
     },
     "execution_count": 9,
     "metadata": {},
     "output_type": "execute_result"
    }
   ],
   "source": [
    "stats.norm.cdf(697,711,29)"
   ]
  },
  {
   "cell_type": "code",
   "execution_count": 11,
   "id": "7de60872",
   "metadata": {
    "ExecuteTime": {
     "end_time": "2022-12-16T17:16:13.529004Z",
     "start_time": "2022-12-16T17:16:13.513006Z"
    }
   },
   "outputs": [
    {
     "data": {
      "text/plain": [
       "0.5267111786415019"
      ]
     },
     "execution_count": 11,
     "metadata": {},
     "output_type": "execute_result"
    }
   ],
   "source": [
    "stats.norm.cdf(740,711,29) - stats.norm.cdf(697,711,29)"
   ]
  },
  {
   "cell_type": "markdown",
   "id": "ac3c0527",
   "metadata": {},
   "source": [
    "# point percentage function"
   ]
  },
  {
   "cell_type": "code",
   "execution_count": 13,
   "id": "7c01211a",
   "metadata": {
    "ExecuteTime": {
     "end_time": "2022-12-16T17:23:56.470650Z",
     "start_time": "2022-12-16T17:23:56.456656Z"
    }
   },
   "outputs": [
    {
     "data": {
      "text/plain": [
       "741.05656829532"
      ]
     },
     "execution_count": 13,
     "metadata": {},
     "output_type": "execute_result"
    }
   ],
   "source": [
    "stats.norm.ppf(0.85,711,29)"
   ]
  },
  {
   "cell_type": "code",
   "execution_count": 17,
   "id": "0d93dce7",
   "metadata": {
    "ExecuteTime": {
     "end_time": "2022-12-16T17:42:44.194431Z",
     "start_time": "2022-12-16T17:42:43.400013Z"
    }
   },
   "outputs": [
    {
     "data": {
      "text/plain": [
       "0.8413447460685429"
      ]
     },
     "execution_count": 17,
     "metadata": {},
     "output_type": "execute_result"
    }
   ],
   "source": [
    "stats.norm.cdf(150,120,30)"
   ]
  },
  {
   "cell_type": "code",
   "execution_count": 27,
   "id": "d3668183",
   "metadata": {
    "ExecuteTime": {
     "end_time": "2022-12-16T18:01:12.144072Z",
     "start_time": "2022-12-16T18:01:12.128074Z"
    }
   },
   "outputs": [],
   "source": [
    "mean= 120\n",
    "std =30\n",
    "x = 200"
   ]
  },
  {
   "cell_type": "code",
   "execution_count": 33,
   "id": "59abee02",
   "metadata": {
    "ExecuteTime": {
     "end_time": "2022-12-16T18:03:58.823555Z",
     "start_time": "2022-12-16T18:03:58.807556Z"
    }
   },
   "outputs": [
    {
     "data": {
      "text/plain": [
       "2.6666666666666665"
      ]
     },
     "execution_count": 33,
     "metadata": {},
     "output_type": "execute_result"
    }
   ],
   "source": [
    "#probability of random variable which will greater than or equal to 200  ?\n",
    "#byusing z score\n",
    "z =(x-mean)/std\n",
    "z"
   ]
  },
  {
   "cell_type": "code",
   "execution_count": 30,
   "id": "493f6c2f",
   "metadata": {
    "ExecuteTime": {
     "end_time": "2022-12-16T18:01:40.183616Z",
     "start_time": "2022-12-16T18:01:40.167617Z"
    }
   },
   "outputs": [
    {
     "data": {
      "text/plain": [
       "0.9960929674251472"
      ]
     },
     "execution_count": 30,
     "metadata": {},
     "output_type": "execute_result"
    }
   ],
   "source": [
    "stats.norm.cdf(2.66)"
   ]
  },
  {
   "cell_type": "code",
   "execution_count": 31,
   "id": "4c05921f",
   "metadata": {
    "ExecuteTime": {
     "end_time": "2022-12-16T18:02:16.895854Z",
     "start_time": "2022-12-16T18:02:16.871829Z"
    }
   },
   "outputs": [
    {
     "data": {
      "text/plain": [
       "0.003907032574852809"
      ]
     },
     "execution_count": 31,
     "metadata": {},
     "output_type": "execute_result"
    }
   ],
   "source": [
    "1-stats.norm.cdf(2.66)"
   ]
  },
  {
   "cell_type": "code",
   "execution_count": 32,
   "id": "fc8a7b34",
   "metadata": {
    "ExecuteTime": {
     "end_time": "2022-12-16T18:02:44.255099Z",
     "start_time": "2022-12-16T18:02:44.223304Z"
    }
   },
   "outputs": [
    {
     "data": {
      "text/plain": [
       "0.003830380567589775"
      ]
     },
     "execution_count": 32,
     "metadata": {},
     "output_type": "execute_result"
    }
   ],
   "source": [
    "#by using diret code\n",
    "1-stats.norm.cdf(200,120,30)"
   ]
  },
  {
   "cell_type": "markdown",
   "id": "5298d51a",
   "metadata": {},
   "source": [
    "# probability questions\n",
    "1. according to the survey, the average weight of a child is 70 pounds in us with std 10 pounds.\n",
    "  - what is the probability that the weight is less than 50 ?\n",
    "  - what is the probability that the weight is range of 50 to 90 ?\n",
    "  - what is the probability that the weight is grater than 100 pounds ?"
   ]
  },
  {
   "cell_type": "code",
   "execution_count": 4,
   "id": "a5d69f69",
   "metadata": {
    "ExecuteTime": {
     "end_time": "2022-12-18T06:28:29.913618Z",
     "start_time": "2022-12-18T06:28:29.888636Z"
    }
   },
   "outputs": [
    {
     "data": {
      "text/plain": [
       "0.022750131948179195"
      ]
     },
     "execution_count": 4,
     "metadata": {},
     "output_type": "execute_result"
    }
   ],
   "source": [
    "stats.norm.cdf(50,70,10)"
   ]
  },
  {
   "cell_type": "code",
   "execution_count": 8,
   "id": "bd747827",
   "metadata": {
    "ExecuteTime": {
     "end_time": "2022-12-18T06:33:46.422732Z",
     "start_time": "2022-12-18T06:33:46.399747Z"
    }
   },
   "outputs": [
    {
     "data": {
      "text/plain": [
       "0.9544997361036416"
      ]
     },
     "execution_count": 8,
     "metadata": {},
     "output_type": "execute_result"
    }
   ],
   "source": [
    "stats.norm.cdf(90,70,10) - stats.norm.cdf(50,70,10)"
   ]
  },
  {
   "cell_type": "code",
   "execution_count": 5,
   "id": "ad18b09f",
   "metadata": {
    "ExecuteTime": {
     "end_time": "2022-12-18T06:29:51.405977Z",
     "start_time": "2022-12-18T06:29:51.393003Z"
    }
   },
   "outputs": [
    {
     "data": {
      "text/plain": [
       "0.0013498980316301035"
      ]
     },
     "execution_count": 5,
     "metadata": {},
     "output_type": "execute_result"
    }
   ],
   "source": [
    "1-stats.norm.cdf(100,70,10)"
   ]
  },
  {
   "cell_type": "code",
   "execution_count": null,
   "id": "b4219185",
   "metadata": {},
   "outputs": [],
   "source": []
  }
 ],
 "metadata": {
  "kernelspec": {
   "display_name": "Python 3 (ipykernel)",
   "language": "python",
   "name": "python3"
  },
  "language_info": {
   "codemirror_mode": {
    "name": "ipython",
    "version": 3
   },
   "file_extension": ".py",
   "mimetype": "text/x-python",
   "name": "python",
   "nbconvert_exporter": "python",
   "pygments_lexer": "ipython3",
   "version": "3.9.13"
  }
 },
 "nbformat": 4,
 "nbformat_minor": 5
}
